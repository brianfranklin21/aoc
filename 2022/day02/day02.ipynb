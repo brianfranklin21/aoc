{
 "cells": [
  {
   "cell_type": "code",
   "execution_count": 7,
   "metadata": {},
   "outputs": [
    {
     "name": "stdout",
     "output_type": "stream",
     "text": [
      "score is 9241\n",
      "score is 14610\n"
     ]
    }
   ],
   "source": [
    "\"\"\" https://adventofcode.com/2022/day/2\n",
    "\"\"\"\n",
    "\n",
    "\n",
    "class DayTwo:\n",
    "\n",
    "    def __init__(self, input_fname):\n",
    "        self.guide = []\n",
    "        with open(input_fname, 'r') as _file:\n",
    "            for line in _file:\n",
    "                self.guide.append(tuple(line.split()))\n",
    "\n",
    "    def outcome(self, op, me):\n",
    "        outcomes = {\n",
    "            'A X': 'draw',\n",
    "            'A Y': 'win',\n",
    "            'A Z': 'loss',\n",
    "            'B X': 'loss',\n",
    "            'B Y': 'draw',\n",
    "            'B Z': 'win',\n",
    "            'C X': 'win',\n",
    "            'C Y': 'loss',\n",
    "            'C Z': 'draw',\n",
    "        }\n",
    "        return outcomes[f\"{op} {me}\"]\n",
    "\n",
    "    def my_shape(self, op_shape, outcome_code):\n",
    "        my_shapes = {\n",
    "            'A X': 'S',\n",
    "            'A Y': 'R',\n",
    "            'A Z': 'P',\n",
    "            'B X': 'R',\n",
    "            'B Y': 'P',\n",
    "            'B Z': 'S',\n",
    "            'C X': 'P',\n",
    "            'C Y': 'S',\n",
    "            'C Z': 'R',\n",
    "        }\n",
    "        return my_shapes[f\"{op_shape} {outcome_code}\"]\n",
    "\n",
    "    def part1(self):\n",
    "        \"\"\" What would your total score be if everything goes\n",
    "            exactly according to your strategy guide?\n",
    "        \"\"\"\n",
    "        shape_pts = {'X': 1, 'Y': 2, 'Z': 3}\n",
    "        outcome_pts = {'loss': 0, 'draw': 3, 'win': 6}\n",
    "        score = 0\n",
    "        for op, me in self.guide:\n",
    "            score += shape_pts[me] + outcome_pts[self.outcome(op, me)]\n",
    "        print(f\"score is {score}\")\n",
    "\n",
    "    def part2(self):\n",
    "        \"\"\" Following the Elf's instructions for the second column, what would your\n",
    "            total score be if everything goes exactly according to your strategy guide?\n",
    "        \"\"\"\n",
    "        oc_map = {'X': 'loss', 'Y': 'draw', 'Z': 'win'}\n",
    "        shape_pts = {'R': 1, 'P': 2, 'S': 3}\n",
    "        outcome_pts = {'loss': 0, 'draw': 3, 'win': 6}\n",
    "        score = 0\n",
    "        for op, oc in self.guide:\n",
    "            score += shape_pts[self.my_shape(op, oc)] + outcome_pts[oc_map[oc]]\n",
    "        print(f\"score is {score}\")\n",
    "\n",
    "\n",
    "# day2 = DayTwo(\"sample_input.txt\")\n",
    "day2 = DayTwo(\"input.txt\")\n",
    "day2.part1()\n",
    "day2.part2()\n"
   ]
  }
 ],
 "metadata": {
  "kernelspec": {
   "display_name": "Python 3.10.8 64-bit",
   "language": "python",
   "name": "python3"
  },
  "language_info": {
   "codemirror_mode": {
    "name": "ipython",
    "version": 3
   },
   "file_extension": ".py",
   "mimetype": "text/x-python",
   "name": "python",
   "nbconvert_exporter": "python",
   "pygments_lexer": "ipython3",
   "version": "3.10.8"
  },
  "orig_nbformat": 4,
  "vscode": {
   "interpreter": {
    "hash": "a0a5145e6c304e2a9afaf5b930a2955b950bd4b81fe94f7c42930f43f42762eb"
   }
  }
 },
 "nbformat": 4,
 "nbformat_minor": 2
}
