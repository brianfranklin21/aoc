{
 "cells": [
  {
   "cell_type": "code",
   "execution_count": 12,
   "metadata": {},
   "outputs": [
    {
     "name": "stdout",
     "output_type": "stream",
     "text": [
      "13680\n",
      "##   ####  ##  ###  #  # ###  #### ###  \n",
      "   #    # #  # #  # # #  #  # #    #  ##\n",
      "#  #   #  #    #  # ##   #  # ###  ###  \n",
      "      #   # ## ###  # #  ###  #    #  # \n",
      "#    #    #  # #    # #  #    #    #  ##\n",
      "#    ####  ### #    #  # #    #### ###  \n"
     ]
    }
   ],
   "source": [
    "\"\"\" https://adventofcode.com/2022/day/10\n",
    "\"\"\"\n",
    "\n",
    "\n",
    "class Processor:\n",
    "\n",
    "    def __init__(self) -> None:\n",
    "        self.reg_x = [1, ]\n",
    "        self.sprite = [0, 1, 2, ]\n",
    "        self.crt = []\n",
    "\n",
    "    def run(self, command) -> int:\n",
    "        if command[0] == \"noop\":\n",
    "            self.crt.append(\"#\" if len(self.reg_x) in self.sprite else \" \")\n",
    "            self.reg_x.append(self.reg_x[-1])\n",
    "        if command[0] == \"addx\":\n",
    "            self.crt.append(\"#\" if len(self.reg_x) in self.sprite else \" \")\n",
    "            self.reg_x.append(self.reg_x[-1])\n",
    "            # second cycle:\n",
    "            self.crt.append(\"#\" if len(self.reg_x) in self.sprite else \" \")\n",
    "            self.reg_x.append(self.reg_x[-1] + int(command[1]))\n",
    "            sprite_mid = self.reg_x[-1] + 1 + 40 * (len(self.reg_x) // 40)\n",
    "            self.sprite = [sprite_mid - 1, sprite_mid, sprite_mid + 1]\n",
    "\n",
    "\n",
    "class DayTen:\n",
    "\n",
    "    def __init__(self, input_fname):\n",
    "        with open(input_fname, 'r') as _file:\n",
    "            self.data = [line.strip().split() for line in _file]\n",
    "\n",
    "    def signal_strength(self, reg_x, cycle):\n",
    "        return reg_x[cycle] * cycle\n",
    "\n",
    "    def part1(self):\n",
    "        \"\"\" Find the signal strength during the 20th, 60th, 100th, 140th, 180th,\n",
    "            and 220th cycles. What is the sum of these six signal strengths?\n",
    "        \"\"\"\n",
    "        cpu = Processor()\n",
    "        for command in self.data:\n",
    "            cpu.run(command)\n",
    "        signal_strength = sum([cpu.reg_x[i-1] * i for i in range(20, 221, 40)])\n",
    "        print(signal_strength)\n",
    "\n",
    "    def part2(self):\n",
    "        \"\"\" Render the image given by your program. What eight capital letters appear on your CRT?\n",
    "        \"\"\"\n",
    "        cpu = Processor()\n",
    "        for command in self.data:\n",
    "            cpu.run(command)\n",
    "        for i in range(0, 201, 40):\n",
    "            print(\"\".join(cpu.crt[i:40 + i]))\n",
    "\n",
    "\n",
    "# day10 = DayTen(\"sample.txt\")\n",
    "day10 = DayTen(\"input.txt\")\n",
    "day10.part1()\n",
    "day10.part2()\n"
   ]
  }
 ],
 "metadata": {
  "kernelspec": {
   "display_name": "Python 3.10.8 64-bit",
   "language": "python",
   "name": "python3"
  },
  "language_info": {
   "codemirror_mode": {
    "name": "ipython",
    "version": 3
   },
   "file_extension": ".py",
   "mimetype": "text/x-python",
   "name": "python",
   "nbconvert_exporter": "python",
   "pygments_lexer": "ipython3",
   "version": "3.10.8"
  },
  "orig_nbformat": 4,
  "vscode": {
   "interpreter": {
    "hash": "a0a5145e6c304e2a9afaf5b930a2955b950bd4b81fe94f7c42930f43f42762eb"
   }
  }
 },
 "nbformat": 4,
 "nbformat_minor": 2
}
