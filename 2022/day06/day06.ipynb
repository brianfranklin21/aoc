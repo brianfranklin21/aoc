{
 "cells": [
  {
   "cell_type": "code",
   "execution_count": 9,
   "metadata": {},
   "outputs": [
    {
     "name": "stdout",
     "output_type": "stream",
     "text": [
      "1544\n",
      "2145\n"
     ]
    }
   ],
   "source": [
    "\"\"\" https://adventofcode.com/2022/day/6\n",
    "\"\"\"\n",
    "\n",
    "\n",
    "class DaySix:\n",
    "\n",
    "    def __init__(self, input_fname):\n",
    "        self.data = []\n",
    "        with open(input_fname, 'r') as _file:\n",
    "            for line in _file:\n",
    "                line = line.strip()\n",
    "                self.data.append(line)\n",
    "\n",
    "    def find_marker(self, s, w):\n",
    "        i = w\n",
    "        while len(set(s[i-w:i])) < w:\n",
    "            i += 1\n",
    "        return i\n",
    "\n",
    "    def part1(self):\n",
    "        \"\"\" How many characters need to be processed before the first\n",
    "            start-of-packet marker is detected?\n",
    "        \"\"\"\n",
    "        for stream in self.data:\n",
    "            print(self.find_marker(stream, 4))\n",
    "\n",
    "    def part2(self):\n",
    "        \"\"\" 14 distinct characters. How many characters need to be processed\n",
    "            before the first start-of-packet marker is detected?\n",
    "        \"\"\"\n",
    "        for stream in self.data:\n",
    "            print(self.find_marker(stream, 14))\n",
    "\n",
    "\n",
    "# day6 = DaySix(\"sample.txt\")\n",
    "day6 = DaySix(\"input.txt\")\n",
    "day6.part1()\n",
    "day6.part2()\n"
   ]
  }
 ],
 "metadata": {
  "kernelspec": {
   "display_name": "Python 3.10.8 64-bit",
   "language": "python",
   "name": "python3"
  },
  "language_info": {
   "codemirror_mode": {
    "name": "ipython",
    "version": 3
   },
   "file_extension": ".py",
   "mimetype": "text/x-python",
   "name": "python",
   "nbconvert_exporter": "python",
   "pygments_lexer": "ipython3",
   "version": "3.10.8"
  },
  "orig_nbformat": 4,
  "vscode": {
   "interpreter": {
    "hash": "a0a5145e6c304e2a9afaf5b930a2955b950bd4b81fe94f7c42930f43f42762eb"
   }
  }
 },
 "nbformat": 4,
 "nbformat_minor": 2
}
