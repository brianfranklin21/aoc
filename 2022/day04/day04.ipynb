{
 "cells": [
  {
   "cell_type": "code",
   "execution_count": 59,
   "metadata": {},
   "outputs": [
    {
     "name": "stdout",
     "output_type": "stream",
     "text": [
      "part1 (155.926 µs) = 513\n",
      "part2 (124.931 µs) = 878\n",
      "part1_alt (1728.058 µs) = 513\n",
      "part2_alt (2027.035 µs) = 878\n"
     ]
    }
   ],
   "source": [
    "\"\"\" https://adventofcode.com/2022/day/4\n",
    "\"\"\"\n",
    "import time\n",
    "\n",
    "\n",
    "class DayFour:\n",
    "\n",
    "    def __init__(self, input_fname):\n",
    "        self.data = []\n",
    "        with open(input_fname, 'r') as _file:\n",
    "            for line in _file:\n",
    "                line = line.strip()\n",
    "                self.data.append(\n",
    "                    tuple([int(i) for r in line.split(',') for i in r.split('-')])\n",
    "                )\n",
    "\n",
    "    def full_overlap(self, lb1, ub1, lb2, ub2):\n",
    "        set1_in_set2 = lb1 >= lb2 and ub1 <= ub2\n",
    "        set2_in_set1 = lb2 >= lb1 and ub2 <= ub1\n",
    "        return set1_in_set2 or set2_in_set1\n",
    "\n",
    "    def any_overlap(self, lb1, ub1, lb2, ub2):\n",
    "        return not ((ub1 < lb2) or (ub2 < lb1))\n",
    "\n",
    "    def part1(self):\n",
    "        return sum([self.full_overlap(*i) for i in self.data])\n",
    "\n",
    "    def part2(self):\n",
    "        return sum([self.any_overlap(*i) for i in self.data])\n",
    "\n",
    "    def print_results(self):\n",
    "        t0 = time.time()\n",
    "        ans1 = self.part1()\n",
    "        t1 = (time.time() - t0) * 1000000\n",
    "        t0 = time.time()\n",
    "        ans2 = self.part2()\n",
    "        t2 = (time.time() - t0) * 1000000\n",
    "        print(f\"part1 ({t1:.3f} µs) = {ans1}\\n\"\n",
    "              f\"part2 ({t2:.3f} µs) = {ans2}\")\n",
    "\n",
    "    def full_overlap_alt(self, lb1, ub1, lb2, ub2):\n",
    "        set1 = set(range(lb1, ub1 + 1))\n",
    "        set2 = set(range(lb2, ub2 + 1))\n",
    "        return set1.issuperset(set2) or set2.issuperset(set1)\n",
    "\n",
    "    def any_overlap_alt(self, lb1, ub1, lb2, ub2):\n",
    "        set1 = set(range(lb1, ub1 + 1))\n",
    "        set2 = set(range(lb2, ub2 + 1))\n",
    "        return set1 & set2 != set()\n",
    "\n",
    "    def part1_alt(self):\n",
    "        return sum([self.full_overlap_alt(*i) for i in self.data])\n",
    "\n",
    "    def part2_alt(self):\n",
    "        return sum([self.any_overlap_alt(*i) for i in self.data])\n",
    "\n",
    "    def print_results_alt(self):\n",
    "        t0 = time.time()\n",
    "        ans1 = self.part1_alt()\n",
    "        t1 = (time.time() - t0) * 1000000\n",
    "        t0 = time.time()\n",
    "        ans2 = self.part2_alt()\n",
    "        t2 = (time.time() - t0) * 1000000\n",
    "        print(f\"part1_alt ({t1:.3f} µs) = {ans1}\\n\"\n",
    "              f\"part2_alt ({t2:.3f} µs) = {ans2}\")\n",
    "\n",
    "\n",
    "# day4 = DayFour(\"sample.txt\")\n",
    "day4 = DayFour(\"input.txt\")\n",
    "day4.print_results()\n",
    "day4.print_results_alt()\n"
   ]
  }
 ],
 "metadata": {
  "kernelspec": {
   "display_name": "Python 3.10.8 64-bit",
   "language": "python",
   "name": "python3"
  },
  "language_info": {
   "codemirror_mode": {
    "name": "ipython",
    "version": 3
   },
   "file_extension": ".py",
   "mimetype": "text/x-python",
   "name": "python",
   "nbconvert_exporter": "python",
   "pygments_lexer": "ipython3",
   "version": "3.10.8"
  },
  "orig_nbformat": 4,
  "vscode": {
   "interpreter": {
    "hash": "a0a5145e6c304e2a9afaf5b930a2955b950bd4b81fe94f7c42930f43f42762eb"
   }
  }
 },
 "nbformat": 4,
 "nbformat_minor": 2
}
