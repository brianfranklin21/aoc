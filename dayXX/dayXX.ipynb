{
 "cells": [
  {
   "cell_type": "code",
   "execution_count": null,
   "metadata": {},
   "outputs": [],
   "source": [
    "\"\"\" https://adventofcode.com/2022/day/X\n",
    "\"\"\"\n",
    "\n",
    "\n",
    "class DayXXXX:\n",
    "\n",
    "    def __init__(self, input_fname):\n",
    "        with open(input_fname, 'r') as _file:\n",
    "            self.data = [line.strip().split() for line in _file]\n",
    "\n",
    "    def part1(self):\n",
    "        \"\"\" \n",
    "        \"\"\"\n",
    "        print()\n",
    "\n",
    "    def part2(self):\n",
    "        \"\"\"\n",
    "        \"\"\"\n",
    "        print()\n",
    "\n",
    "\n",
    "dayX = DayXXXX(\"sample.txt\")\n",
    "dayX = DayXXXX(\"input.txt\")\n",
    "dayX.part1()\n",
    "dayX.part2()\n"
   ]
  }
 ],
 "metadata": {
  "kernelspec": {
   "display_name": "Python 3.10.8 64-bit",
   "language": "python",
   "name": "python3"
  },
  "language_info": {
   "name": "python",
   "version": "3.10.8 (main, Oct 13 2022, 09:48:40) [Clang 14.0.0 (clang-1400.0.29.102)]"
  },
  "orig_nbformat": 4,
  "vscode": {
   "interpreter": {
    "hash": "a0a5145e6c304e2a9afaf5b930a2955b950bd4b81fe94f7c42930f43f42762eb"
   }
  }
 },
 "nbformat": 4,
 "nbformat_minor": 2
}
