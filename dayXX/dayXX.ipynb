{
 "cells": [
  {
   "cell_type": "code",
   "execution_count": null,
   "metadata": {},
   "outputs": [],
   "source": [
    "\"\"\"https://adventofcode.com/2022/day/XX\"\"\"\n",
    "\n",
    "from dataclasses import InitVar, dataclass, field\n",
    "\n",
    "\n",
    "@dataclass\n",
    "class DayXX:\n",
    "    \"\"\"Top-level class for solving the day's puzzles.\"\"\"\n",
    "    puzzle_input_filename: InitVar[str]\n",
    "    part1: int = field(init=False, default=0)\n",
    "    part2: int = field(init=False, default=0)\n",
    "\n",
    "    def __post_init__(self, filename) -> None:\n",
    "        \"\"\"Parse the puzzle input and calculate the answers.\"\"\"\n",
    "        with open(filename, 'r') as f:\n",
    "            self.data = [line.strip().split() for line in f]\n",
    "        self._do_part1()\n",
    "        self._do_part2()\n",
    "\n",
    "    def _do_part1(self) -> None:\n",
    "        \"\"\"Solve the puzzle for part 1.\"\"\"\n",
    "        ...\n",
    "\n",
    "    def _do_part2(self) -> None:\n",
    "        \"\"\"Solve the puzzle for part 2.\"\"\"\n",
    "        ...\n",
    "\n",
    "\n",
    "test = DayXX(\"sample.txt\")\n",
    "assert test.part1 == 0, test.part1\n",
    "assert test.part2 == 0, test.part2\n",
    "\n",
    "print(DayXX(\"input.txt\"))"
   ]
  }
 ],
 "metadata": {
  "kernelspec": {
   "display_name": "Python 3",
   "language": "python",
   "name": "python3"
  },
  "language_info": {
   "name": "python",
   "version": "3.11.1 (main, Dec 23 2022, 09:28:24) [Clang 14.0.0 (clang-1400.0.29.202)]"
  },
  "orig_nbformat": 4,
  "vscode": {
   "interpreter": {
    "hash": "29f1e52c0d8d5e5ede6aaca4be8238d35b46afd62a3b8286547e2768de775769"
   }
  }
 },
 "nbformat": 4,
 "nbformat_minor": 2
}
