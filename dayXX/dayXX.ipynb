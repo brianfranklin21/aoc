{
 "cells": [
  {
   "cell_type": "code",
   "execution_count": null,
   "metadata": {},
   "outputs": [],
   "source": [
    "\"\"\"https://adventofcode.com/2022/day/X\"\"\"\n",
    "\n",
    "\n",
    "class DayXXXX:\n",
    "\n",
    "    def __init__(self, input_fname):\n",
    "        with open(input_fname, 'r') as _file:\n",
    "            self.data = [line.strip().split() for line in _file]\n",
    "\n",
    "    def part1(self):\n",
    "        \"\"\"Solve the puzzle for part 1.\"\"\"\n",
    "        print(f\"Part 1: {0}\")\n",
    "\n",
    "    def part2(self):\n",
    "        \"\"\"Solve the puzzle for part 2.\"\"\"\n",
    "        print(f\"Part 2: {0}\")\n",
    "\n",
    "\n",
    "dayX = DayXXXX(\"sample.txt\")\n",
    "dayX = DayXXXX(\"input.txt\")\n",
    "dayX.part1()\n",
    "dayX.part2()\n"
   ]
  }
 ],
 "metadata": {
  "kernelspec": {
   "display_name": "Python 3",
   "language": "python",
   "name": "python3"
  },
  "language_info": {
   "name": "python",
   "version": "3.11.0 (main, Oct 25 2022, 13:57:33) [Clang 14.0.0 (clang-1400.0.29.202)]"
  },
  "orig_nbformat": 4,
  "vscode": {
   "interpreter": {
    "hash": "29f1e52c0d8d5e5ede6aaca4be8238d35b46afd62a3b8286547e2768de775769"
   }
  }
 },
 "nbformat": 4,
 "nbformat_minor": 2
}
