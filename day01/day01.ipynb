{
 "cells": [
  {
   "cell_type": "code",
   "execution_count": 1,
   "metadata": {},
   "outputs": [
    {
     "name": "stdout",
     "output_type": "stream",
     "text": [
      "Elf 31 carries the most calories: 66306\n",
      "Top three Elves (31, 160, 161) carry the most calories totaling: 195292\n"
     ]
    }
   ],
   "source": [
    "\"\"\" https://adventofcode.com/2022/day/1\n",
    "\"\"\"\n",
    "\n",
    "\n",
    "class CaloriesList:\n",
    "\n",
    "    def __init__(self, input_fname):\n",
    "        self.data = {}\n",
    "        with open(input_fname, 'r') as _file:\n",
    "            elf = 1\n",
    "            for line in _file:\n",
    "                if line == '\\n':\n",
    "                    elf += 1\n",
    "                    continue\n",
    "                if elf not in self.data:\n",
    "                    self.data[elf] = 0\n",
    "                self.data[elf] += int(line)\n",
    "        self.sorted_data = dict(sorted(self.data.items(), key=lambda i: i[1], reverse=True))\n",
    "\n",
    "    def part1(self):\n",
    "        \"\"\" Find the Elf carrying the most Calories.\n",
    "            How many total Calories is that Elf carrying?\n",
    "        \"\"\"\n",
    "        elves, cals = zip(*self.sorted_data.items())\n",
    "        print(f\"Elf {elves[0]} carries the most calories: {cals[0]}\")\n",
    "\n",
    "    def part2(self):\n",
    "        \"\"\" Find the top three Elves carrying the most Calories.\n",
    "            How many Calories are those Elves carrying in total?\n",
    "        \"\"\"\n",
    "        elves, cals = zip(*self.sorted_data.items())\n",
    "        print(f\"Top three Elves {elves[:3]} carry the most calories totaling: {sum(cals[:3])}\")\n",
    "\n",
    "\n",
    "# cals = CaloriesList(\"sample_input.txt\")\n",
    "cals = CaloriesList(\"input.txt\")\n",
    "cals.part1()\n",
    "cals.part2()\n"
   ]
  }
 ],
 "metadata": {
  "kernelspec": {
   "display_name": "Python 3.10.8 64-bit",
   "language": "python",
   "name": "python3"
  },
  "language_info": {
   "codemirror_mode": {
    "name": "ipython",
    "version": 3
   },
   "file_extension": ".py",
   "mimetype": "text/x-python",
   "name": "python",
   "nbconvert_exporter": "python",
   "pygments_lexer": "ipython3",
   "version": "3.10.8"
  },
  "orig_nbformat": 4,
  "vscode": {
   "interpreter": {
    "hash": "a0a5145e6c304e2a9afaf5b930a2955b950bd4b81fe94f7c42930f43f42762eb"
   }
  }
 },
 "nbformat": 4,
 "nbformat_minor": 2
}
