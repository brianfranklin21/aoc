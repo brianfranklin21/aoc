{
 "cells": [
  {
   "cell_type": "code",
   "execution_count": 34,
   "metadata": {},
   "outputs": [
    {
     "name": "stdout",
     "output_type": "stream",
     "text": [
      "13680\n",
      "\n"
     ]
    }
   ],
   "source": [
    "\"\"\" https://adventofcode.com/2022/day/10\n",
    "\"\"\"\n",
    "\n",
    "\n",
    "class Processor:\n",
    "\n",
    "    def __init__(self) -> None:\n",
    "        self.reg_x = [1, ]\n",
    "\n",
    "    def run(self, command) -> int:\n",
    "        prev = 1 if self.reg_x == [] else self.reg_x[-1]\n",
    "        if command[0] == \"noop\":\n",
    "            self.reg_x.append(prev)\n",
    "        if command[0] == \"addx\":\n",
    "            self.reg_x.append(prev)\n",
    "            self.reg_x.append(prev + int(command[1]))\n",
    "\n",
    "\n",
    "class DayTen:\n",
    "\n",
    "    def __init__(self, input_fname):\n",
    "        with open(input_fname, 'r') as _file:\n",
    "            self.data = [line.strip().split() for line in _file]\n",
    "\n",
    "    def signal_strength(self, reg_x, cycle):\n",
    "        return reg_x[cycle] * cycle\n",
    "\n",
    "    def part1(self):\n",
    "        \"\"\" Find the signal strength during the 20th, 60th, 100th, 140th, 180th,\n",
    "            and 220th cycles. What is the sum of these six signal strengths?\n",
    "        \"\"\"\n",
    "        cpu = Processor()\n",
    "        for command in self.data:\n",
    "            cpu.run(command)\n",
    "        signal_strength = sum([cpu.reg_x[i-1] * i for i in range(20, 221, 40)])\n",
    "        print(signal_strength)\n",
    "\n",
    "    def part2(self):\n",
    "        \"\"\"\n",
    "        \"\"\"\n",
    "        print()\n",
    "\n",
    "\n",
    "# day10 = DayTen(\"sample.txt\")\n",
    "day10 = DayTen(\"input.txt\")\n",
    "day10.part1()\n",
    "day10.part2()\n"
   ]
  }
 ],
 "metadata": {
  "kernelspec": {
   "display_name": "Python 3.10.8 64-bit",
   "language": "python",
   "name": "python3"
  },
  "language_info": {
   "codemirror_mode": {
    "name": "ipython",
    "version": 3
   },
   "file_extension": ".py",
   "mimetype": "text/x-python",
   "name": "python",
   "nbconvert_exporter": "python",
   "pygments_lexer": "ipython3",
   "version": "3.10.8"
  },
  "orig_nbformat": 4,
  "vscode": {
   "interpreter": {
    "hash": "a0a5145e6c304e2a9afaf5b930a2955b950bd4b81fe94f7c42930f43f42762eb"
   }
  }
 },
 "nbformat": 4,
 "nbformat_minor": 2
}
