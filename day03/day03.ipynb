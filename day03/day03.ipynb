{
 "cells": [
  {
   "cell_type": "code",
   "execution_count": 10,
   "metadata": {},
   "outputs": [
    {
     "name": "stdout",
     "output_type": "stream",
     "text": [
      "['D', 'S', 'W', 'h', 'N', 'T', 'M', 'f', 'Q', 'D', 'p', 'V', 'B', 'R', 'v', 'q', 'c', 'T', 'C', 'p', 'h', 'P', 's', 'T', 'm', 'd', 'R', 'D', 'j', 'p', 'P', 'w', 'J', 'w', 'T', 'W', 'L', 't', 'p', 'm', 'J', 'Q', 'l', 'H', 'j', 'L', 'h', 'F', 'N', 'r', 'D', 'Q', 'P', 'M', 'L', 'q', 'H', 'c', 'L', 'r', 'D', 'S', 'N', 'l', 'P', 'b', 'v', 'm', 'q', 'Q', 'R', 'b', 'S', 'r', 'P', 'D', 'R', 'Q', 'g', 'S', 'R', 'Z', 'T', 'W', 'z', 'q', 'C', 'C', 'F', 'd', 'F', 'T', 'd', 'v', 'g', 'S', 'F', 'd', 'Z', 'Z', 'p', 'j', 'M', 'F', 'q', 's', 'G', 'D', 's', 'r', 'C', 's', 't', 'c', 'c', 'T', 'J', 'B', 'm', 'C', 'G', 'l', 'w', 'M', 'c', 'j', 'z', 'b', 'B', 'S', 'v', 'F', 'Q', 'B', 'n', 'V', 'f', 'H', 'w', 'Z', 'v', 'V', 'p', 'j', 'M', 'C', 'Z', 'j', 'B', 'D', 'M', 'j', 'b', 'Q', 't', 'f', 'f', 'q', 'l', 'B', 'T', 'l', 'm', 'N', 'Q', 'M', 'S', 'm', 'f', 'J', 'M', 'T', 'R', 'l', 'f', 'c', 'd', 'w', 'Z', 'd', 'H', 'G', 'h', 'R', 'l', 'S', 'V', 'B', 'W', 'w', 'n', 'V', 'v', 'H', 'z', 'l', 'm', 'd', 'p', 'M', 'n', 'd', 'N', 'w', 'q', 'f', 'Z', 'c', 'G', 'B', 'T', 'Q', 'l', 'B', 'l', 'p', 'Z', 't', 'V', 'V', 'l', 'z', 'g', 'P', 'S', 'T', 'Z', 'H', 'G', 'q', 'V', 'P', 'q', 'w', 'W', 'R', 'J', 'D', 'd', 'F', 'M', 'q', 'b', 'l', 'N', 'h', 'c', 'f', 'h', 'S', 'R', 'H', 'p', 'Z', 'z', 'f', 's', 'D', 'z', 'D', 'r', 'B', 'W', 'D', 'Q', 'P', 'S', 's', 'm', 'c', 'h', 'F', 'M', 'N', 'h', 'Q', 't', 'M', 'w', 'n', 'Q', 'D', 'P', 'Z', 'z', 'C', 'W', 'q', 'G', 'n', 'C', 'L', 'T', 'd', 'm', 't', 'R', 'F', 'w', 'l']\n",
      "8252\n"
     ]
    }
   ],
   "source": [
    "\"\"\" https://adventofcode.com/2022/day/3\n",
    "\"\"\"\n",
    "\n",
    "\n",
    "class DayThree:\n",
    "\n",
    "    def __init__(self, input_fname):\n",
    "        self.data = []\n",
    "        with open(input_fname, 'r') as _file:\n",
    "            for line in _file:\n",
    "                line = line.strip()\n",
    "                mid = len(line) // 2\n",
    "                self.data.append((line[:mid], line[mid:]))\n",
    "\n",
    "    def priority(self, item_type):\n",
    "        \"\"\" ord('a') =  97 (0x61) --> priority = 1\n",
    "            ord('z') = 122 (0x7A) --> priority = 26\n",
    "            ord('A') =  65 (0x41) --> priority = 27\n",
    "            ord('Z') =  90 (0x5A) --> priority = 52\n",
    "        \"\"\"\n",
    "        priority = ord(item_type) - 38  # handles uppercase\n",
    "        if priority > 52:\n",
    "            priority -= 58  # handles lowercase\n",
    "        return priority\n",
    "\n",
    "    def part1(self):\n",
    "        \"\"\" Find the item type that appears in both compartments of each rucksack.\n",
    "            What is the sum of the priorities of those item types?\n",
    "        \"\"\"\n",
    "        # print(self.data)\n",
    "        common_items = [(set(cmp1) & set(cmp2)).pop() for cmp1, cmp2 in self.data]\n",
    "        print(common_items)\n",
    "        priority_sum = sum([self.priority(i) for i in common_items])\n",
    "        print(priority_sum)\n",
    "\n",
    "\n",
    "# day3 = DayThree(\"sample_input.txt\")\n",
    "day3 = DayThree(\"input.txt\")\n",
    "day3.part1()\n"
   ]
  }
 ],
 "metadata": {
  "kernelspec": {
   "display_name": "Python 3.10.8 64-bit",
   "language": "python",
   "name": "python3"
  },
  "language_info": {
   "codemirror_mode": {
    "name": "ipython",
    "version": 3
   },
   "file_extension": ".py",
   "mimetype": "text/x-python",
   "name": "python",
   "nbconvert_exporter": "python",
   "pygments_lexer": "ipython3",
   "version": "3.10.8"
  },
  "orig_nbformat": 4,
  "vscode": {
   "interpreter": {
    "hash": "a0a5145e6c304e2a9afaf5b930a2955b950bd4b81fe94f7c42930f43f42762eb"
   }
  }
 },
 "nbformat": 4,
 "nbformat_minor": 2
}
