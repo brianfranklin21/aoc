{
 "cells": [
  {
   "cell_type": "code",
   "execution_count": 21,
   "metadata": {},
   "outputs": [
    {
     "name": "stdout",
     "output_type": "stream",
     "text": [
      "8252\n",
      "2828\n"
     ]
    }
   ],
   "source": [
    "\"\"\" https://adventofcode.com/2022/day/3\n",
    "\"\"\"\n",
    "\n",
    "\n",
    "class DayThree:\n",
    "\n",
    "    def __init__(self, input_fname):\n",
    "        self.data = []\n",
    "        self.grp = []\n",
    "        with open(input_fname, 'r') as _file:\n",
    "            for line in _file:\n",
    "                line = line.strip()\n",
    "                mid = len(line) // 2\n",
    "                self.data.append((line[:mid], line[mid:]))\n",
    "                self.grp.append(line)\n",
    "        self.grp = list(zip(self.grp[0::3], self.grp[1::3], self.grp[2::3]))\n",
    "\n",
    "    def priority(self, item_type):\n",
    "        \"\"\" ord('a') =  97 (0x61) --> priority = 1\n",
    "            ord('z') = 122 (0x7A) --> priority = 26\n",
    "            ord('A') =  65 (0x41) --> priority = 27\n",
    "            ord('Z') =  90 (0x5A) --> priority = 52\n",
    "        \"\"\"\n",
    "        priority = ord(item_type) - 38  # handles uppercase\n",
    "        if priority > 52:\n",
    "            priority -= 58  # handles lowercase\n",
    "        return priority\n",
    "\n",
    "    def part1(self):\n",
    "        \"\"\" Find the item type that appears in both compartments of each rucksack.\n",
    "            What is the sum of the priorities of those item types?\n",
    "        \"\"\"\n",
    "        common_items = [(set(cmp1) & set(cmp2)).pop() for cmp1, cmp2 in self.data]\n",
    "        priority_sum = sum([self.priority(i) for i in common_items])\n",
    "        print(priority_sum)\n",
    "\n",
    "    def part2(self):\n",
    "        \"\"\" Find the item type that corresponds to the badges of each three-Elf group.\n",
    "            What is the sum of the priorities of those item types?\n",
    "        \"\"\"\n",
    "        badges = [(set(bag1) & set(bag2) & set(bag3)).pop() for bag1, bag2, bag3 in self.grp]\n",
    "        priority_sum = sum([self.priority(i) for i in badges])\n",
    "        print(priority_sum)\n",
    "\n",
    "\n",
    "# day3 = DayThree(\"sample_input.txt\")\n",
    "day3 = DayThree(\"input.txt\")\n",
    "day3.part1()\n",
    "day3.part2()\n"
   ]
  }
 ],
 "metadata": {
  "kernelspec": {
   "display_name": "Python 3.10.8 64-bit",
   "language": "python",
   "name": "python3"
  },
  "language_info": {
   "codemirror_mode": {
    "name": "ipython",
    "version": 3
   },
   "file_extension": ".py",
   "mimetype": "text/x-python",
   "name": "python",
   "nbconvert_exporter": "python",
   "pygments_lexer": "ipython3",
   "version": "3.10.8"
  },
  "orig_nbformat": 4,
  "vscode": {
   "interpreter": {
    "hash": "a0a5145e6c304e2a9afaf5b930a2955b950bd4b81fe94f7c42930f43f42762eb"
   }
  }
 },
 "nbformat": 4,
 "nbformat_minor": 2
}
