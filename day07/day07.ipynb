{
 "cells": [
  {
   "cell_type": "code",
   "execution_count": 69,
   "metadata": {},
   "outputs": [
    {
     "name": "stdout",
     "output_type": "stream",
     "text": [
      "1989474\n",
      "\n"
     ]
    }
   ],
   "source": [
    "\"\"\" https://adventofcode.com/2022/day/7\n",
    "\"\"\"\n",
    "\n",
    "\n",
    "class Folder:\n",
    "\n",
    "    def __init__(self, name, parent):\n",
    "        self.name = name\n",
    "        self.parent = parent\n",
    "        self.size = 0\n",
    "\n",
    "    def inc_size(self, file_size):\n",
    "        self.size += file_size\n",
    "        if self.parent is not None:\n",
    "            self.parent.inc_size(file_size)\n",
    "\n",
    "\n",
    "class DaySeven:\n",
    "\n",
    "    def __init__(self, input_fname):\n",
    "        self.folders = {}\n",
    "        cwd = []\n",
    "        with open(input_fname, 'r') as _file:\n",
    "            for line in _file:\n",
    "                line = line.strip()\n",
    "\n",
    "                if \"$ cd \" in line:\n",
    "                    if \"$ cd /\" == line:\n",
    "                        cwd = [\"/\", ]\n",
    "                        if \"/\" not in self.folders:\n",
    "                            self.folders[\"/\"] = Folder(\"/\", None)\n",
    "                    elif \"$ cd ..\" == line:\n",
    "                        cwd.pop()\n",
    "                    else:  # $ ch <name>\n",
    "                        name = line.split()[-1]\n",
    "                        cwd.append(name)\n",
    "                        if \"/\".join(cwd) not in self.folders:\n",
    "                            folder = Folder(name, self.folders[\"/\".join(cwd[0:-1])])\n",
    "                            self.folders[\"/\".join(cwd)] = folder\n",
    "\n",
    "                elif \"$ ls\" in line:\n",
    "                    continue\n",
    "\n",
    "                elif \"dir \" in line:\n",
    "                    continue\n",
    "\n",
    "                else:  # it's a file\n",
    "                    size, name = line.split()\n",
    "                    self.folders[\"/\".join(cwd)].inc_size(int(size))\n",
    "\n",
    "    def part1(self):\n",
    "        \"\"\" Find all of the directories with a total size of at most 100000.\n",
    "            What is the sum of the total sizes of those directories?\n",
    "        \"\"\"\n",
    "        # print(\"All Folders:\", [(f.name, f.size) for f in self.folders.values()])\n",
    "        # print(\"Folders <= 100000:\",\n",
    "        #       [(f.name, f.size) for f in self.folders.values() if f.size <= 100000])\n",
    "        print(sum([f.size for f in self.folders.values() if f.size <= 100000]))\n",
    "\n",
    "    def part2(self):\n",
    "        \"\"\"\n",
    "        \"\"\"\n",
    "        print()\n",
    "\n",
    "\n",
    "# day7 = DaySeven(\"sample.txt\")\n",
    "day7 = DaySeven(\"input.txt\")\n",
    "day7.part1()\n",
    "day7.part2()\n"
   ]
  }
 ],
 "metadata": {
  "kernelspec": {
   "display_name": "Python 3.10.8 64-bit",
   "language": "python",
   "name": "python3"
  },
  "language_info": {
   "codemirror_mode": {
    "name": "ipython",
    "version": 3
   },
   "file_extension": ".py",
   "mimetype": "text/x-python",
   "name": "python",
   "nbconvert_exporter": "python",
   "pygments_lexer": "ipython3",
   "version": "3.10.8"
  },
  "orig_nbformat": 4,
  "vscode": {
   "interpreter": {
    "hash": "a0a5145e6c304e2a9afaf5b930a2955b950bd4b81fe94f7c42930f43f42762eb"
   }
  }
 },
 "nbformat": 4,
 "nbformat_minor": 2
}
