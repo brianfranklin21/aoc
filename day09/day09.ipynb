{
 "cells": [
  {
   "cell_type": "code",
   "execution_count": 11,
   "metadata": {},
   "outputs": [
    {
     "name": "stdout",
     "output_type": "stream",
     "text": [
      "6030\n",
      "\n"
     ]
    }
   ],
   "source": [
    "\"\"\" https://adventofcode.com/2022/day/9\n",
    "\"\"\"\n",
    "import parse\n",
    "\n",
    "\n",
    "class Rope:\n",
    "\n",
    "    def __init__(self) -> None:\n",
    "        self.head = (0, 0)  # row, col\n",
    "        self.tail = (0, 0)  # row, col\n",
    "        self.tail_log = {(0, 0), }\n",
    "\n",
    "    def move_head(self, d, s) -> None:\n",
    "        \"\"\"     -\n",
    "                U\n",
    "            - L * R +\n",
    "                D\n",
    "                +\n",
    "        \"\"\"\n",
    "        move = {\n",
    "            'R': lambda x: (x[0], x[1] + 1),\n",
    "            'L': lambda x: (x[0], x[1] - 1),\n",
    "            'D': lambda x: (x[0] + 1, x[1]),\n",
    "            'U': lambda x: (x[0] - 1, x[1]),\n",
    "        }\n",
    "        for _ in range(s):\n",
    "            self.head = move[d](self.head)\n",
    "            self._move_tail()\n",
    "\n",
    "    def _move_tail(self) -> None:\n",
    "        \"\"\"   H H H\n",
    "            H ↖️ ↑ ↗ H\n",
    "            H ← T → H\n",
    "            H ↙️ ↓ ↘ H\n",
    "              H H H\n",
    "        \"\"\"\n",
    "        move = {\n",
    "            # head is R, L, D, or U\n",
    "            (0,   2): lambda x: (x[0], x[1] + 1),\n",
    "            (0,  -2): lambda x: (x[0], x[1] - 1),\n",
    "            (2,   0): lambda x: (x[0] + 1, x[1]),\n",
    "            (-2,  0): lambda x: (x[0] - 1, x[1]),\n",
    "            # head is diagonal D R\n",
    "            (1,   2): lambda x: (x[0] + 1, x[1] + 1),\n",
    "            (2,   1): lambda x: (x[0] + 1, x[1] + 1),\n",
    "            # head is diagonal D L\n",
    "            (1,  -2): lambda x: (x[0] + 1, x[1] - 1),\n",
    "            (2,  -1): lambda x: (x[0] + 1, x[1] - 1),\n",
    "            # head is diagonal U R\n",
    "            (-1,  2): lambda x: (x[0] - 1, x[1] + 1),\n",
    "            (-2,  1): lambda x: (x[0] - 1, x[1] + 1),\n",
    "            # head is diagonal U L\n",
    "            (-1, -2): lambda x: (x[0] - 1, x[1] - 1),\n",
    "            (-2, -1): lambda x: (x[0] - 1, x[1] - 1),\n",
    "        }\n",
    "        delta = tuple([self.head[0] - self.tail[0], self.head[1] - self.tail[1]])\n",
    "        if 2 in delta or -2 in delta:\n",
    "            self.tail = move[delta](self.tail)\n",
    "            self.tail_log.add(self.tail)\n",
    "\n",
    "\n",
    "class DayNine:\n",
    "\n",
    "    def __init__(self, input_fname) -> None:\n",
    "        with open(input_fname, 'r') as _file:\n",
    "            self.data = [parse.search(\"{} {:d}\", line).fixed for line in _file]\n",
    "\n",
    "    def part1(self):\n",
    "        \"\"\" How many positions does the tail of the rope visit at least once?\n",
    "        \"\"\"\n",
    "        r = Rope()\n",
    "        for direction, steps in self.data:\n",
    "            r.move_head(direction, steps)\n",
    "        print(len(r.tail_log))\n",
    "\n",
    "    def part2(self):\n",
    "        \"\"\"\n",
    "        \"\"\"\n",
    "        print()\n",
    "\n",
    "\n",
    "# day9 = DayNine(\"sample.txt\")\n",
    "day9 = DayNine(\"input.txt\")\n",
    "day9.part1()\n",
    "day9.part2()\n"
   ]
  }
 ],
 "metadata": {
  "kernelspec": {
   "display_name": "Python 3",
   "language": "python",
   "name": "python3"
  },
  "language_info": {
   "codemirror_mode": {
    "name": "ipython",
    "version": 3
   },
   "file_extension": ".py",
   "mimetype": "text/x-python",
   "name": "python",
   "nbconvert_exporter": "python",
   "pygments_lexer": "ipython3",
   "version": "3.10.8"
  },
  "orig_nbformat": 4,
  "vscode": {
   "interpreter": {
    "hash": "aee8b7b246df8f9039afb4144a1f6fd8d2ca17a180786b69acc140d282b71a49"
   }
  }
 },
 "nbformat": 4,
 "nbformat_minor": 2
}
