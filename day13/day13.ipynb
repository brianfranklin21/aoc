{
 "cells": [
  {
   "cell_type": "code",
   "execution_count": 17,
   "metadata": {},
   "outputs": [
    {
     "name": "stdout",
     "output_type": "stream",
     "text": [
      "Part 1: 6623\n",
      "Part 2: 0\n"
     ]
    }
   ],
   "source": [
    "\"\"\"https://adventofcode.com/2022/day/13\"\"\"\n",
    "\n",
    "from __future__ import annotations\n",
    "from ast import literal_eval\n",
    "\n",
    "\n",
    "class DayThirteen:\n",
    "    \"\"\"Top-level class to solve the day's puzzles.\"\"\"\n",
    "\n",
    "    def __init__(self, input_fname: str) -> None:\n",
    "        \"\"\"Read and parse the input file.\"\"\"\n",
    "        with open(input_fname, 'r') as f:\n",
    "            data_gen = (pair.splitlines() for pair in f.read().split('\\n\\n'))\n",
    "            self.data = [tuple(map(literal_eval, pair)) for pair in data_gen]\n",
    "            # print(self.data)\n",
    "\n",
    "    def is_correct_order(self, L: int | list, R: int | list) -> int:\n",
    "        \"\"\"Return 1 if l & r are in the correct order, 0 if tie, -1 if not.\"\"\"\n",
    "        match L, R:\n",
    "            case int(), int():\n",
    "                return (L < R) - (R < L)\n",
    "\n",
    "            case int(), list():\n",
    "                return self.is_correct_order([L], R)\n",
    "\n",
    "            case list(), int():\n",
    "                return self.is_correct_order(L, [R])\n",
    "\n",
    "            case list(), list():\n",
    "                # Note: map stops when the shortest argument iterable is exhausted.\n",
    "                for x in map(self.is_correct_order, L, R):\n",
    "                    if x:\n",
    "                        return x\n",
    "                # Still a tie so final comparison is made by length.\n",
    "                return self.is_correct_order(len(L), len(R))\n",
    "\n",
    "            case _:\n",
    "                raise ValueError\n",
    "\n",
    "    def part1(self) -> None:\n",
    "        \"\"\"Solve the puzzle for part 1.\"\"\"\n",
    "        ans = sum(i for i, p in enumerate(self.data, start=1) if self.is_correct_order(*p) > 0)\n",
    "        print(f\"Part 1: {ans}\")\n",
    "\n",
    "    def part2(self) -> None:\n",
    "        \"\"\"Solve the puzzle for part 2.\"\"\"\n",
    "        print(f\"Part 2: {0}\")\n",
    "\n",
    "\n",
    "# day13 = DayThirteen(\"sample.txt\")\n",
    "day13 = DayThirteen(\"input.txt\")\n",
    "day13.part1()\n",
    "day13.part2()\n"
   ]
  }
 ],
 "metadata": {
  "kernelspec": {
   "display_name": "Python 3",
   "language": "python",
   "name": "python3"
  },
  "language_info": {
   "codemirror_mode": {
    "name": "ipython",
    "version": 3
   },
   "file_extension": ".py",
   "mimetype": "text/x-python",
   "name": "python",
   "nbconvert_exporter": "python",
   "pygments_lexer": "ipython3",
   "version": "3.11.0"
  },
  "orig_nbformat": 4,
  "vscode": {
   "interpreter": {
    "hash": "29f1e52c0d8d5e5ede6aaca4be8238d35b46afd62a3b8286547e2768de775769"
   }
  }
 },
 "nbformat": 4,
 "nbformat_minor": 2
}
