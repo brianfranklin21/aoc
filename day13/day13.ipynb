{
 "cells": [
  {
   "cell_type": "code",
   "execution_count": 44,
   "metadata": {},
   "outputs": [
    {
     "name": "stdout",
     "output_type": "stream",
     "text": [
      "Part 1: 6623\n",
      "Part 2: 23049\n"
     ]
    }
   ],
   "source": [
    "\"\"\"https://adventofcode.com/2022/day/13\"\"\"\n",
    "\n",
    "from __future__ import annotations\n",
    "\n",
    "from ast import literal_eval\n",
    "from functools import cmp_to_key\n",
    "from math import prod\n",
    "\n",
    "\n",
    "class DayThirteen:\n",
    "    \"\"\"Top-level class to solve the day's puzzles.\"\"\"\n",
    "\n",
    "    def __init__(self, input_fname: str) -> None:\n",
    "        \"\"\"Read and parse the input file.\"\"\"\n",
    "        with open(input_fname, 'r') as f:\n",
    "            data_gen = (pair.splitlines() for pair in f.read().split('\\n\\n'))\n",
    "            self.data = [tuple(map(literal_eval, pair)) for pair in data_gen]\n",
    "            # print(self.data)\n",
    "\n",
    "    def compare(self, L: int | list, R: int | list) -> int:\n",
    "        \"\"\"Comparison Function. Return -1 for less-than, 0 for equal, or 1 for greater-than\"\"\"\n",
    "        match L, R:\n",
    "            case int(), int():\n",
    "                return (L > R) - (L < R)\n",
    "\n",
    "            case int(), list():\n",
    "                return self.compare([L], R)\n",
    "\n",
    "            case list(), int():\n",
    "                return self.compare(L, [R])\n",
    "\n",
    "            case list(), list():\n",
    "                # Note: map stops when the shortest argument iterable is exhausted.\n",
    "                for x in map(self.compare, L, R):\n",
    "                    if x:\n",
    "                        return x\n",
    "                # Still a tie so final comparison is made by length.\n",
    "                return self.compare(len(L), len(R))\n",
    "\n",
    "            case _:\n",
    "                raise ValueError\n",
    "\n",
    "    def part1(self) -> None:\n",
    "        \"\"\"Solve the puzzle for part 1.\"\"\"\n",
    "        ans = sum(i for i, p in enumerate(self.data, start=1) if self.compare(*p) < 0)\n",
    "        print(f\"Part 1: {ans}\")\n",
    "\n",
    "    def part2(self) -> None:\n",
    "        \"\"\"Solve the puzzle for part 2.\"\"\"\n",
    "        packets = [[[2]], [[6]]]\n",
    "        for L, R in self.data:\n",
    "            packets.append(L)\n",
    "            packets.append(R)\n",
    "\n",
    "        packets = sorted(packets, key=cmp_to_key(self.compare))\n",
    "        ans = prod(i for i, p in enumerate(packets, start=1) if p in ([[2]], [[6]]))\n",
    "        print(f\"Part 2: {ans}\")\n",
    "\n",
    "\n",
    "# day13 = DayThirteen(\"sample.txt\")\n",
    "day13 = DayThirteen(\"input.txt\")\n",
    "day13.part1()\n",
    "day13.part2()\n"
   ]
  }
 ],
 "metadata": {
  "kernelspec": {
   "display_name": "Python 3",
   "language": "python",
   "name": "python3"
  },
  "language_info": {
   "codemirror_mode": {
    "name": "ipython",
    "version": 3
   },
   "file_extension": ".py",
   "mimetype": "text/x-python",
   "name": "python",
   "nbconvert_exporter": "python",
   "pygments_lexer": "ipython3",
   "version": "3.11.1 (main, Dec 23 2022, 09:28:24) [Clang 14.0.0 (clang-1400.0.29.202)]"
  },
  "orig_nbformat": 4,
  "vscode": {
   "interpreter": {
    "hash": "29f1e52c0d8d5e5ede6aaca4be8238d35b46afd62a3b8286547e2768de775769"
   }
  }
 },
 "nbformat": 4,
 "nbformat_minor": 2
}
