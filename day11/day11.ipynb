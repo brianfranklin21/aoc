{
 "cells": [
  {
   "cell_type": "code",
   "execution_count": 82,
   "metadata": {},
   "outputs": [
    {
     "name": "stdout",
     "output_type": "stream",
     "text": [
      "{0: [1, 1, 1, 1, 1, 1, 1, 1, 1, 1, 1], 1: [2, 2, 2, 2, 2, 2, 2, 2, 2, 2, 2, 2, 2], 2: [], 3: [1, 1, 1, 1, 1, 1, 1, 1, 1, 1, 1, 12], 4: [], 5: [], 6: [], 7: []}\n",
      "[194, 242, 240, 243, 247, 253, 17, 17]\n",
      "62491\n",
      "\n"
     ]
    }
   ],
   "source": [
    "\"\"\" https://adventofcode.com/2022/day/11\n",
    "\"\"\"\n",
    "\n",
    "\n",
    "class Monkey:\n",
    "\n",
    "    def __init__(self, id, items, op, test) -> None:\n",
    "        self.id = id\n",
    "        self.items = items\n",
    "        self.op = op\n",
    "        self.test = test\n",
    "        self.insp_cnt = 0\n",
    "\n",
    "    def __repr__(self) -> str:\n",
    "        return f\"{self.items}\"\n",
    "\n",
    "\n",
    "class MonkeyBusiness:\n",
    "\n",
    "    def __init__(self) -> None:\n",
    "        self.monkeys = {}\n",
    "\n",
    "    def enlist_monkey(self, d) -> None:\n",
    "        m = int(d[0][-1])\n",
    "        items = [int(i) for i in d[1][2:]]\n",
    "        operand1, operator, operand2 = d[2][3:]\n",
    "        test_value, if_true, if_false = int(d[3][-1]), int(d[4][-1]), int(d[5][-1])\n",
    "        op = eval(f\"lambda old: {operand1} {operator} {operand2}\")\n",
    "        test = eval(f\"lambda i: {if_true} if i % {test_value} == 0 else {if_false}\")\n",
    "        self.monkeys[m] = Monkey(m, items, op, test)\n",
    "        # print(f\"d = {d}\")\n",
    "        # print(m, items)\n",
    "        # print(m, operand1, operator, operand2)\n",
    "        # print(m, test_value, if_true, if_false)\n",
    "        # print(f\"Enlisted Monkey {m}\")\n",
    "\n",
    "    def play(self) -> None:\n",
    "        # print(\"Starting a round\", self.monkeys)\n",
    "        for m, monkey in self.monkeys.items():\n",
    "            # print(f\"Monkey {m} starts playing\")\n",
    "            # print(self.monkeys)\n",
    "            while self.monkeys[m].items:\n",
    "                self.monkeys[m].insp_cnt += 1\n",
    "                # print(f\"Monkey {m} inspects {item}\")\n",
    "                self.monkeys[m].items[0] = monkey.op(self.monkeys[m].items[0])\n",
    "                # print(self.monkeys)\n",
    "                self.monkeys[m].items[0] //= 3\n",
    "                # print(\"You relax\")\n",
    "                # print(self.monkeys)\n",
    "                next_m = monkey.test(self.monkeys[m].items[0])\n",
    "                # print(m, self.monkeys[m].items[i], next_m)\n",
    "                # print(f\"Monkey {m} tossed {self.monkeys[m].items[0]} to Monkey {next_m}\")\n",
    "                self.monkeys[next_m].items.append(self.monkeys[m].items.pop(0))\n",
    "                # print(next_m, self.monkeys[next_m].items)\n",
    "                # print(self.monkeys)\n",
    "\n",
    "\n",
    "class DayEleven:\n",
    "\n",
    "    def __init__(self, input_fname):\n",
    "        with open(input_fname, 'r') as _file:\n",
    "            self.data = [[i.strip(\",:\") for i in line.split()] for line in _file]\n",
    "        self.mb = MonkeyBusiness()\n",
    "        for i in range(0, len(self.data), 7):\n",
    "            self.mb.enlist_monkey(self.data[i:7 + i])\n",
    "\n",
    "    def part1(self):\n",
    "        \"\"\" Figure out which monkeys to chase by counting how many items they inspect\n",
    "            over 20 rounds. What is the level of monkey business after 20 rounds of\n",
    "            stuff-slinging simian shenanigans?\n",
    "        \"\"\"\n",
    "        for _ in range(20):\n",
    "            self.mb.play()\n",
    "        print(self.mb.monkeys)\n",
    "        insp_cnts = [m.insp_cnt for m in self.mb.monkeys.values()]\n",
    "        print(insp_cnts)\n",
    "        print(sorted(insp_cnts)[-1] * sorted(insp_cnts)[-2])\n",
    "\n",
    "    def part2(self):\n",
    "        \"\"\"\n",
    "        \"\"\"\n",
    "        print()\n",
    "\n",
    "\n",
    "# day11 = DayEleven(\"sample.txt\")\n",
    "day11 = DayEleven(\"input.txt\")\n",
    "day11.part1()\n",
    "day11.part2()\n"
   ]
  }
 ],
 "metadata": {
  "kernelspec": {
   "display_name": "Python 3.10.8 64-bit",
   "language": "python",
   "name": "python3"
  },
  "language_info": {
   "codemirror_mode": {
    "name": "ipython",
    "version": 3
   },
   "file_extension": ".py",
   "mimetype": "text/x-python",
   "name": "python",
   "nbconvert_exporter": "python",
   "pygments_lexer": "ipython3",
   "version": "3.10.8"
  },
  "orig_nbformat": 4,
  "vscode": {
   "interpreter": {
    "hash": "a0a5145e6c304e2a9afaf5b930a2955b950bd4b81fe94f7c42930f43f42762eb"
   }
  }
 },
 "nbformat": 4,
 "nbformat_minor": 2
}
